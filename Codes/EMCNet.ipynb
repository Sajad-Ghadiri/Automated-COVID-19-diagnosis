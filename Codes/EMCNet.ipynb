{
 "cells": [
  {
   "cell_type": "code",
   "execution_count": null,
   "metadata": {},
   "outputs": [],
   "source": [
    "#Extract Covid Cohen Dataset\n",
    "\n",
    "import numpy as np\n",
    "import cv2\n",
    "import pandas as pd\n",
    "from glob import glob\n",
    "import os\n",
    "\n",
    "\n",
    "img_path = 'D:\\\\University\\\\Master\\\\Term 3\\\\Computer Vision\\\\HWs\\\\Project I\\\\Dataset\\\\images\\*'\n",
    "csv_path = 'D:\\\\University\\\\Master\\\\Term 3\\\\Computer Vision\\\\HWs\\\\Project I\\\\Dataset\\\\metadata.csv'\n",
    "save_path = 'D:\\\\University\\\\Master\\\\Term 3\\\\Computer Vision\\\\HWs\\\\Project I\\\\COVID-19 dataset\\\\Covid'\n",
    "save_path2 = 'D:\\\\University\\\\Master\\\\Term 3\\\\Computer Vision\\\\HWs\\\\Project I\\\\COVID-19 dataset\\\\Normal'\n",
    "\n",
    "path_img = sorted(glob(img_path))\n",
    "csv_file = pd.read_csv(csv_path)\n",
    "flag = 'COVID-19'\n",
    "\n",
    "for i in range(csv_file.shape[0]):\n",
    "    \n",
    "    finding = csv_file['finding'][i]\n",
    "    if flag in finding:\n",
    "        filename = os.path.splitext(csv_file['filename'][i])[0]\n",
    "        for img_path in path_img:\n",
    "            img_name = os.path.splitext(os.path.basename(img_path))[0]\n",
    "            if img_name == filename:\n",
    "                img = cv2.imread(img_path)\n",
    "                cv2.imwrite(save_path + '\\Covid_'+os.path.basename(img_path), img)\n",
    "    else: \n",
    "        filename = os.path.splitext(csv_file['filename'][i])[0]\n",
    "        for img_path in path_img:\n",
    "            img_name = os.path.splitext(os.path.basename(img_path))[0]\n",
    "            if img_name == filename:\n",
    "                img = cv2.imread(img_path)\n",
    "                cv2.imwrite(save_path2 + '\\\\Normal_'+os.path.basename(img_path), img)\n",
    "\n",
    "\n"
   ]
  },
  {
   "cell_type": "code",
   "execution_count": 1,
   "metadata": {},
   "outputs": [
    {
     "name": "stderr",
     "output_type": "stream",
     "text": [
      "Calculating Overall Mean and Std: 100%|██████████| 2100/2100 [00:59<00:00, 35.20it/s]"
     ]
    },
    {
     "name": "stdout",
     "output_type": "stream",
     "text": [
      "Overall Mean: [0.5113713164952965, 0.5111083020633332, 0.5110829029900134]\n",
      "Overall Std: [0.2556174130529046, 0.2555650771697803, 0.2555635740709926]\n"
     ]
    },
    {
     "name": "stderr",
     "output_type": "stream",
     "text": [
      "\n"
     ]
    }
   ],
   "source": [
    "import os\n",
    "import cv2\n",
    "import numpy as np\n",
    "from glob import glob\n",
    "from tqdm import tqdm\n",
    "\n",
    "def calculate_overall_mean_std(data_path, subset_ratio=0.7, target_size=(224, 224)):\n",
    "    \"\"\"\n",
    "    Calculate the overall mean and standard deviation for 70% of the images from both classes (Covid and Normal).\n",
    "    \n",
    "    Args:\n",
    "    data_path (str): Path to the dataset containing 'Covid' and 'Normal' subfolders.\n",
    "    subset_ratio (float): Proportion of images to use for calculating statistics (default is 70%).\n",
    "    target_size (tuple): Target size for resizing images.\n",
    "    \n",
    "    Returns:\n",
    "    - overall_mean (list): Overall mean values for (R, G, B).\n",
    "    - overall_std (list): Overall standard deviation values for (R, G, B).\n",
    "    \"\"\"\n",
    "    image_paths = []\n",
    "\n",
    "    # Collect image paths for both classes (Covid and Normal)\n",
    "    for root, subfolders, filenames in os.walk(data_path):\n",
    "        for k in subfolders:\n",
    "            if k == 'Covid' or k == 'Normal':  # Collect paths for both 'Covid' and 'Normal'\n",
    "                filepath = os.path.join(root, k, \"*\")\n",
    "                paths = sorted(glob(filepath))\n",
    "                image_paths.extend(paths)\n",
    "\n",
    "    # Shuffle the image paths to ensure randomness\n",
    "    np.random.shuffle(image_paths)\n",
    "    \n",
    "    # Select 70% of the images for training\n",
    "    train_paths = image_paths[:int(len(image_paths) * subset_ratio)]\n",
    "\n",
    "    # Initialize variables to calculate mean and std\n",
    "    pixel_sum = np.zeros(3)\n",
    "    pixel_sq_sum = np.zeros(3)\n",
    "    num_pixels = 0\n",
    "\n",
    "    # Iterate over the selected 70% images\n",
    "    for img_path in tqdm(train_paths, desc=\"Calculating Overall Mean and Std\"):\n",
    "        try:\n",
    "            # Read the image\n",
    "            img = cv2.imread(img_path)\n",
    "            if img is None:\n",
    "                print(f\"Could not read image: {img_path}\")\n",
    "                continue\n",
    "\n",
    "            # Resize the image\n",
    "            img_resized = cv2.resize(img, target_size)\n",
    "\n",
    "            # Normalize to [0, 1]\n",
    "            img_resized = img_resized / 255.0  # Scaling to [0, 1]\n",
    "\n",
    "            # Accumulate pixel sums and squared sums\n",
    "            pixel_sum += np.sum(img_resized, axis=(0, 1))\n",
    "            pixel_sq_sum += np.sum(img_resized**2, axis=(0, 1))\n",
    "            num_pixels += img_resized.shape[0] * img_resized.shape[1]  # Total pixels per image\n",
    "\n",
    "        except Exception as e:\n",
    "            print(f\"Error processing {img_path}: {e}\")\n",
    "\n",
    "    # Calculate overall mean and std\n",
    "    overall_mean = pixel_sum / num_pixels\n",
    "    overall_std = np.sqrt((pixel_sq_sum / num_pixels) - (overall_mean**2))\n",
    "\n",
    "    return overall_mean.tolist(), overall_std.tolist()\n",
    "\n",
    "# Example usage\n",
    "data_path = r\"D:\\University\\Master\\Term 3\\Computer Vision\\HWs\\Project I\\Attempt 2\\MachineVision Dataset\\Dataset\"\n",
    "overall_mean, overall_std = calculate_overall_mean_std(data_path)\n",
    "\n",
    "print(f\"Overall Mean: {overall_mean}\")\n",
    "print(f\"Overall Std: {overall_std}\")\n"
   ]
  }
 ],
 "metadata": {
  "kernelspec": {
   "display_name": "Python 3 (ipykernel)",
   "language": "python",
   "name": "python3"
  },
  "language_info": {
   "codemirror_mode": {
    "name": "ipython",
    "version": 3
   },
   "file_extension": ".py",
   "mimetype": "text/x-python",
   "name": "python",
   "nbconvert_exporter": "python",
   "pygments_lexer": "ipython3",
   "version": "3.9.18"
  }
 },
 "nbformat": 4,
 "nbformat_minor": 4
}
